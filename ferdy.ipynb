{
 "cells": [
  {
   "cell_type": "code",
   "execution_count": null,
   "metadata": {},
   "outputs": [],
   "source": [
    "from mesh_to_sdf import sample_sdf_near_surface\n",
    "\n",
    "import trimesh\n",
    "import pyrender\n",
    "import numpy as np\n",
    "\n",
    "mesh = trimesh.load('/Users/ferdydh/Code/adlr/data/meshes/WineBottle/621e786d6343d3aa2c96718b14a4add9.obj')\n",
    "\n",
    "points, sdf = sample_sdf_near_surface(mesh, number_of_points=250000)\n",
    "\n",
    "colors = np.zeros(points.shape)\n",
    "colors[sdf < 0, 2] = 1\n",
    "colors[sdf > 0, 0] = 1\n",
    "cloud = pyrender.Mesh.from_points(points, colors=colors)\n",
    "scene = pyrender.Scene()\n",
    "scene.add(cloud)\n",
    "viewer = pyrender.Viewer(scene, use_raymond_lighting=True, point_size=2)\n",
    "\n"
   ]
  },
  {
   "cell_type": "code",
   "execution_count": null,
   "metadata": {},
   "outputs": [],
   "source": []
  }
 ],
 "metadata": {
  "kernelspec": {
   "display_name": "adlr",
   "language": "python",
   "name": "python3"
  },
  "language_info": {
   "codemirror_mode": {
    "name": "ipython",
    "version": 3
   },
   "file_extension": ".py",
   "mimetype": "text/x-python",
   "name": "python",
   "nbconvert_exporter": "python",
   "pygments_lexer": "ipython3",
   "version": "3.12.7"
  }
 },
 "nbformat": 4,
 "nbformat_minor": 2
}
