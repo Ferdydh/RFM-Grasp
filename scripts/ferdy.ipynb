{
 "cells": [
  {
   "cell_type": "code",
   "execution_count": 1,
   "metadata": {},
   "outputs": [],
   "source": [
    "import sys\n",
    "from pathlib import Path\n",
    "# Append parent directory to path\n",
    "parent_dir = Path().resolve().parent\n",
    "sys.path.append(str(parent_dir))"
   ]
  },
  {
   "cell_type": "code",
   "execution_count": 2,
   "metadata": {},
   "outputs": [
    {
     "name": "stderr",
     "output_type": "stream",
     "text": [
      "WARNING: Failed to load cache: No module named 'data.grasp_dataset'. Starting with empty cache.\n",
      "INFO: Processing mesh 1/1: 56f2cfa7d89ef32a5eef6c5d029c7274.obj\n",
      "INFO: Computing SDF for 56f2cfa7d89ef32a5eef6c5d029c7274.obj\n",
      "INFO: Processing mesh 1/1: 56f2cfa7d89ef32a5eef6c5d029c7274.obj\n",
      "INFO: Loaded 56f2cfa7d89ef32a5eef6c5d029c7274.obj from cache\n",
      "INFO: Processing mesh 1/1: 56f2cfa7d89ef32a5eef6c5d029c7274.obj\n",
      "INFO: Loaded 56f2cfa7d89ef32a5eef6c5d029c7274.obj from cache\n"
     ]
    },
    {
     "name": "stdout",
     "output_type": "stream",
     "text": [
      "Rotation shape: torch.Size([1, 3, 3])\n",
      "Translation shape: torch.Size([1, 3])\n",
      "SDF shape: torch.Size([1, 32, 32, 32])\n"
     ]
    }
   ],
   "source": [
    "# Example usage:\n",
    "from sefmp.data.grasp_dataset import DataSelector, GraspDataModule\n",
    "\n",
    "\n",
    "# 1Shelves_1e3df0ab57e8ca8587f357007f9e75d1_0.011099225885734912\n",
    "\n",
    "# Example 1: Select specific grasp\n",
    "# selector = DataSelector(grasp_id=\"0.011099225885734912\")\n",
    "\n",
    "# Example 2: Select multiple items\n",
    "# selector = [\n",
    "#     DataSelector(item_name=\"1Shelves\"),\n",
    "#     DataSelector(item_name=\"Mug\")\n",
    "# ]\n",
    "\n",
    "# Example 3: Select by object ID\n",
    "# selector = DataSelector(object_id=\"1e3df0ab57e8ca8587f357007f9e75d1\")\n",
    "\n",
    "# selector = DataSelector()\n",
    "\n",
    "selector = DataSelector(object_id=\"56f2cfa7d89ef32a5eef6c5d029c7274\")\n",
    "\n",
    "# Initialize DataModule with multiple selectors\n",
    "grasp_data = GraspDataModule(\n",
    "    data_root=\"../data\",\n",
    "    selectors=selector,  # Using list of selectors\n",
    "    batch_size=32,\n",
    "    num_samples=1  # Optional: limit total samples\n",
    ")\n",
    "\n",
    "# Set up the data module\n",
    "grasp_data.setup()\n",
    "\n",
    "# Get data loaders\n",
    "train_loader = grasp_data.train_dataloader()\n",
    "val_loader = grasp_data.val_dataloader()\n",
    "test_loader = grasp_data.test_dataloader()\n",
    "\n",
    "# Example iteration\n",
    "for rotation, translation, sdf in train_loader:\n",
    "    print(f\"Rotation shape: {rotation.shape}\")      # (batch_size, 3, 3)\n",
    "    print(f\"Translation shape: {translation.shape}\") # (batch_size, 3)\n",
    "    print(f\"SDF shape: {sdf.shape}\")               # (batch_size, size, size, size)\n",
    "    break"
   ]
  },
  {
   "cell_type": "code",
   "execution_count": 3,
   "metadata": {},
   "outputs": [
    {
     "name": "stdout",
     "output_type": "stream",
     "text": [
      "torch.Size([32, 32, 32])\n"
     ]
    }
   ],
   "source": [
    "# print(rotation[0])\n",
    "# print(translation[0])\n",
    "print(sdf[0].shape)"
   ]
  },
  {
   "cell_type": "code",
   "execution_count": null,
   "metadata": {},
   "outputs": [],
   "source": []
  }
 ],
 "metadata": {
  "kernelspec": {
   "display_name": "adlr",
   "language": "python",
   "name": "python3"
  },
  "language_info": {
   "codemirror_mode": {
    "name": "ipython",
    "version": 3
   },
   "file_extension": ".py",
   "mimetype": "text/x-python",
   "name": "python",
   "nbconvert_exporter": "python",
   "pygments_lexer": "ipython3",
   "version": "3.12.7"
  }
 },
 "nbformat": 4,
 "nbformat_minor": 2
}
